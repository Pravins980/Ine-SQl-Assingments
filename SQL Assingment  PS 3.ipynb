{
 "cells": [
  {
   "cell_type": "code",
   "execution_count": null,
   "id": "c30a22aa",
   "metadata": {},
   "outputs": [],
   "source": [
    "Q-1. Write an SQL query to print the FIRST_NAME from Worker table after removing white spaces from the right side.\n",
    "ASn=SELECT R(FIRST_NAME) FROM Worker;\n"
   ]
  },
  {
   "cell_type": "code",
   "execution_count": null,
   "id": "3e33284e",
   "metadata": {},
   "outputs": [],
   "source": [
    "Q-2. Write an SQL query that fetches the unique values of DEPARTMENT from Worker table and prints its length.\n",
    "ANS=SELECT DISTINCT (DEPARTMENT),LENDEPARTMENT) FROM WORKER\n"
   ]
  },
  {
   "cell_type": "code",
   "execution_count": null,
   "id": "76e30230",
   "metadata": {},
   "outputs": [],
   "source": [
    "Q-3. Write an SQL query to fetch nth max salaries from a table.\n",
    "ANS=SELECT E1. SALARY,COUNT(distinct E2.SALARY) FROM WORKER E1 JOIN WORKER E2 ON E1.SALARY <=  E2.SALARY group by  E1.SALARY HAVING COUNT(distinct E2.SALARY)=1\n"
   ]
  }
 ],
 "metadata": {
  "kernelspec": {
   "display_name": "Python 3",
   "language": "python",
   "name": "python3"
  },
  "language_info": {
   "codemirror_mode": {
    "name": "ipython",
    "version": 3
   },
   "file_extension": ".py",
   "mimetype": "text/x-python",
   "name": "python",
   "nbconvert_exporter": "python",
   "pygments_lexer": "ipython3",
   "version": "3.8.8"
  }
 },
 "nbformat": 4,
 "nbformat_minor": 5
}
