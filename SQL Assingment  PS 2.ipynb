{
 "cells": [
  {
   "cell_type": "code",
   "execution_count": null,
   "id": "e09434f1",
   "metadata": {},
   "outputs": [],
   "source": [
    "Q-1. Write an SQL query to print the first three characters of  FIRST_NAME from Worker\n",
    "table\n",
    "ANS=SELECT SUBSTRING(FIRST_NAME, 1, 3) FROM WORKER;"
   ]
  },
  {
   "cell_type": "code",
   "execution_count": null,
   "id": "e3f8b6ab",
   "metadata": {},
   "outputs": [],
   "source": [
    "Q-2. Write an SQL query to find the position of the alphabet (‘a’) in the first name column ‘Amitabh’ from Worker table.\n",
    "ANS= SELECT POSITION('a' in FIRST_NAME) FROM WORKER WHERE FIRST_NAME ='Amitabh';"
   ]
  },
  {
   "cell_type": "code",
   "execution_count": null,
   "id": "56413f0e",
   "metadata": {},
   "outputs": [],
   "source": [
    "Q-3. Write an SQL query to print the name of employees having the highest salary in each department.\n",
    "ANS=SELECT FIRST_NAME ,LAST_NAME,SALARY,DEPARTMENT FROM WORKER W WHERE SALARY = (SELECT MAX(SALARY) FROM WORKER WHERE DEPARTMENT=W.DEPARTMENT)\n"
   ]
  }
 ],
 "metadata": {
  "kernelspec": {
   "display_name": "Python 3",
   "language": "python",
   "name": "python3"
  },
  "language_info": {
   "codemirror_mode": {
    "name": "ipython",
    "version": 3
   },
   "file_extension": ".py",
   "mimetype": "text/x-python",
   "name": "python",
   "nbconvert_exporter": "python",
   "pygments_lexer": "ipython3",
   "version": "3.8.8"
  }
 },
 "nbformat": 4,
 "nbformat_minor": 5
}
