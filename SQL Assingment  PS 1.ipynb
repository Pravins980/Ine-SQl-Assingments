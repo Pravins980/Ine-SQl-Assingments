{
 "cells": [
  {
   "cell_type": "code",
   "execution_count": null,
   "id": "0427bc30",
   "metadata": {},
   "outputs": [],
   "source": [
    "#1Write an SQL query to fetch “FIRST_NAME” from Worker table using the aliasname as &lt;WORKER_NAME&gt;.\n",
    "ANS=select first_name from worker_name as worker;"
   ]
  },
  {
   "cell_type": "code",
   "execution_count": null,
   "id": "4fa0bcbf",
   "metadata": {},
   "outputs": [],
   "source": [
    "#Q-2. Write an SQL query to fetch unique values of DEPARTMENT from Worker table\n",
    "ANS=select DISTINCT departmen from worker;"
   ]
  },
  {
   "cell_type": "code",
   "execution_count": null,
   "id": "082edf8f",
   "metadata": {},
   "outputs": [],
   "source": [
    "#Q-3. Write an SQL query to show the last 5 record from a table.\n",
    "ANS=select * from worker order by 5 desc;"
   ]
  }
 ],
 "metadata": {
  "kernelspec": {
   "display_name": "Python 3",
   "language": "python",
   "name": "python3"
  },
  "language_info": {
   "codemirror_mode": {
    "name": "ipython",
    "version": 3
   },
   "file_extension": ".py",
   "mimetype": "text/x-python",
   "name": "python",
   "nbconvert_exporter": "python",
   "pygments_lexer": "ipython3",
   "version": "3.8.8"
  }
 },
 "nbformat": 4,
 "nbformat_minor": 5
}
