{
 "cells": [
  {
   "cell_type": "code",
   "execution_count": null,
   "id": "3a7f2f2f",
   "metadata": {},
   "outputs": [],
   "source": [
    "Q-1. Write an SQL query to print details of workers excluding first names, “Vipul” and “Satish” from Worker table.\n",
    "select * from worker where first_name not in 'vipul' ,'satish'"
   ]
  },
  {
   "cell_type": "code",
   "execution_count": null,
   "id": "242a6f6a",
   "metadata": {},
   "outputs": [],
   "source": [
    "Q-2. Write an SQL query to print details of the Workers whose FIRST_NAME ends with ‘h’ and contains six alphabets.\n",
    "select * from worker where first_name like '______h';"
   ]
  },
  {
   "cell_type": "code",
   "execution_count": null,
   "id": "e856ea64",
   "metadata": {},
   "outputs": [],
   "source": [
    "Q-3. Write a query to validate Email of Employee.\n",
    "Ans: SELECT * FROM Worker WHERE email LIKE \"_%@_%._%\""
   ]
  }
 ],
 "metadata": {
  "kernelspec": {
   "display_name": "Python 3",
   "language": "python",
   "name": "python3"
  },
  "language_info": {
   "codemirror_mode": {
    "name": "ipython",
    "version": 3
   },
   "file_extension": ".py",
   "mimetype": "text/x-python",
   "name": "python",
   "nbconvert_exporter": "python",
   "pygments_lexer": "ipython3",
   "version": "3.8.8"
  }
 },
 "nbformat": 4,
 "nbformat_minor": 5
}
